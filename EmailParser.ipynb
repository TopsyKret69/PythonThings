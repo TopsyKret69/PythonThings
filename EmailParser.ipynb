{
 "cells": [
  {
   "cell_type": "code",
   "execution_count": 22,
   "metadata": {
    "collapsed": false
   },
   "outputs": [
    {
     "name": "stdout",
     "output_type": "stream",
     "text": [
      "········\n",
      "('OK', ['blond.peter@gmail.com authenticated (Success)'])\n",
      "Mailboxes:\n",
      "['(\\\\HasNoChildren) \"/\" \"Citi_Bank\"', '(\\\\HasNoChildren) \"/\" \"EFFAS\"', '(\\\\HasNoChildren) \"/\" \"Herczeg Tomi\"', '(\\\\HasNoChildren) \"/\" \"INBOX\"', '(\\\\HasNoChildren) \"/\" \"M109\"', '(\\\\HasNoChildren) \"/\" \"Morgan Stanley\"', '(\\\\HasNoChildren) \"/\" \"Munkahely\"', '(\\\\HasNoChildren) \"/\" \"Nyugt&AOE-k\"', '(\\\\HasNoChildren) \"/\" \"Unwanted\"', '(\\\\HasNoChildren) \"/\" \"Utaz&AOE-s\"', '(\\\\HasChildren \\\\Noselect) \"/\" \"[Gmail]\"', '(\\\\Flagged \\\\HasNoChildren) \"/\" \"[Gmail]/Csillagozott\"', '(\\\\HasNoChildren \\\\Sent) \"/\" \"[Gmail]/Elk&APw-ld&APY-tt levelek\"', '(\\\\HasNoChildren \\\\Important) \"/\" \"[Gmail]/Fontos\"', '(\\\\HasNoChildren \\\\Trash) \"/\" \"[Gmail]/Kuka\"', '(\\\\Drafts \\\\HasNoChildren) \"/\" \"[Gmail]/Piszkozatok\"', '(\\\\HasNoChildren \\\\Junk) \"/\" \"[Gmail]/Spam\"', '(\\\\All \\\\HasNoChildren) \"/\" \"[Gmail]/&ANY-sszes lev&AOk-l\"']\n",
      "Processing mailbox...\n",
      "\n"
     ]
    },
    {
     "ename": "error",
     "evalue": "SEARCH command error: BAD ['Could not parse command']",
     "output_type": "error",
     "traceback": [
      "\u001b[0;31m---------------------------------------------------------------------------\u001b[0m",
      "\u001b[0;31merror\u001b[0m                                     Traceback (most recent call last)",
      "\u001b[0;32m<ipython-input-22-5f82844ea184>\u001b[0m in \u001b[0;36m<module>\u001b[0;34m()\u001b[0m\n\u001b[1;32m     53\u001b[0m \u001b[0;31m#typ, msgnums = M.search(None, 'FROM', '\"EBHemail@email.erstebank.hu\"')\u001b[0m\u001b[0;34m\u001b[0m\u001b[0;34m\u001b[0m\u001b[0m\n\u001b[1;32m     54\u001b[0m \u001b[0mrv\u001b[0m\u001b[0;34m,\u001b[0m \u001b[0mdata\u001b[0m \u001b[0;34m=\u001b[0m \u001b[0mM\u001b[0m\u001b[0;34m.\u001b[0m\u001b[0mselect\u001b[0m\u001b[0;34m(\u001b[0m\u001b[0mEMAIL_FOLDER\u001b[0m\u001b[0;34m)\u001b[0m\u001b[0;34m\u001b[0m\u001b[0m\n\u001b[0;32m---> 55\u001b[0;31m \u001b[0mresult\u001b[0m\u001b[0;34m,\u001b[0m \u001b[0mdata\u001b[0m \u001b[0;34m=\u001b[0m \u001b[0mM\u001b[0m\u001b[0;34m.\u001b[0m\u001b[0msearch\u001b[0m\u001b[0;34m(\u001b[0m\u001b[0mNone\u001b[0m\u001b[0;34m,\u001b[0m \u001b[0;34m'EBHemail@email.erstebank.hu'\u001b[0m\u001b[0;34m)\u001b[0m\u001b[0;34m\u001b[0m\u001b[0m\n\u001b[0m\u001b[1;32m     56\u001b[0m \u001b[0;34m\u001b[0m\u001b[0m\n\u001b[1;32m     57\u001b[0m \u001b[0;31m#ids = data[0] # data is a list.\u001b[0m\u001b[0;34m\u001b[0m\u001b[0;34m\u001b[0m\u001b[0m\n",
      "\u001b[0;32m/usr/lib/python2.7/imaplib.pyc\u001b[0m in \u001b[0;36msearch\u001b[0;34m(self, charset, *criteria)\u001b[0m\n\u001b[1;32m    638\u001b[0m             \u001b[0mtyp\u001b[0m\u001b[0;34m,\u001b[0m \u001b[0mdat\u001b[0m \u001b[0;34m=\u001b[0m \u001b[0mself\u001b[0m\u001b[0;34m.\u001b[0m\u001b[0m_simple_command\u001b[0m\u001b[0;34m(\u001b[0m\u001b[0mname\u001b[0m\u001b[0;34m,\u001b[0m \u001b[0;34m'CHARSET'\u001b[0m\u001b[0;34m,\u001b[0m \u001b[0mcharset\u001b[0m\u001b[0;34m,\u001b[0m \u001b[0;34m*\u001b[0m\u001b[0mcriteria\u001b[0m\u001b[0;34m)\u001b[0m\u001b[0;34m\u001b[0m\u001b[0m\n\u001b[1;32m    639\u001b[0m         \u001b[0;32melse\u001b[0m\u001b[0;34m:\u001b[0m\u001b[0;34m\u001b[0m\u001b[0m\n\u001b[0;32m--> 640\u001b[0;31m             \u001b[0mtyp\u001b[0m\u001b[0;34m,\u001b[0m \u001b[0mdat\u001b[0m \u001b[0;34m=\u001b[0m \u001b[0mself\u001b[0m\u001b[0;34m.\u001b[0m\u001b[0m_simple_command\u001b[0m\u001b[0;34m(\u001b[0m\u001b[0mname\u001b[0m\u001b[0;34m,\u001b[0m \u001b[0;34m*\u001b[0m\u001b[0mcriteria\u001b[0m\u001b[0;34m)\u001b[0m\u001b[0;34m\u001b[0m\u001b[0m\n\u001b[0m\u001b[1;32m    641\u001b[0m         \u001b[0;32mreturn\u001b[0m \u001b[0mself\u001b[0m\u001b[0;34m.\u001b[0m\u001b[0m_untagged_response\u001b[0m\u001b[0;34m(\u001b[0m\u001b[0mtyp\u001b[0m\u001b[0;34m,\u001b[0m \u001b[0mdat\u001b[0m\u001b[0;34m,\u001b[0m \u001b[0mname\u001b[0m\u001b[0;34m)\u001b[0m\u001b[0;34m\u001b[0m\u001b[0m\n\u001b[1;32m    642\u001b[0m \u001b[0;34m\u001b[0m\u001b[0m\n",
      "\u001b[0;32m/usr/lib/python2.7/imaplib.pyc\u001b[0m in \u001b[0;36m_simple_command\u001b[0;34m(self, name, *args)\u001b[0m\n\u001b[1;32m   1086\u001b[0m     \u001b[0;32mdef\u001b[0m \u001b[0m_simple_command\u001b[0m\u001b[0;34m(\u001b[0m\u001b[0mself\u001b[0m\u001b[0;34m,\u001b[0m \u001b[0mname\u001b[0m\u001b[0;34m,\u001b[0m \u001b[0;34m*\u001b[0m\u001b[0margs\u001b[0m\u001b[0;34m)\u001b[0m\u001b[0;34m:\u001b[0m\u001b[0;34m\u001b[0m\u001b[0m\n\u001b[1;32m   1087\u001b[0m \u001b[0;34m\u001b[0m\u001b[0m\n\u001b[0;32m-> 1088\u001b[0;31m         \u001b[0;32mreturn\u001b[0m \u001b[0mself\u001b[0m\u001b[0;34m.\u001b[0m\u001b[0m_command_complete\u001b[0m\u001b[0;34m(\u001b[0m\u001b[0mname\u001b[0m\u001b[0;34m,\u001b[0m \u001b[0mself\u001b[0m\u001b[0;34m.\u001b[0m\u001b[0m_command\u001b[0m\u001b[0;34m(\u001b[0m\u001b[0mname\u001b[0m\u001b[0;34m,\u001b[0m \u001b[0;34m*\u001b[0m\u001b[0margs\u001b[0m\u001b[0;34m)\u001b[0m\u001b[0;34m)\u001b[0m\u001b[0;34m\u001b[0m\u001b[0m\n\u001b[0m\u001b[1;32m   1089\u001b[0m \u001b[0;34m\u001b[0m\u001b[0m\n\u001b[1;32m   1090\u001b[0m \u001b[0;34m\u001b[0m\u001b[0m\n",
      "\u001b[0;32m/usr/lib/python2.7/imaplib.pyc\u001b[0m in \u001b[0;36m_command_complete\u001b[0;34m(self, name, tag)\u001b[0m\n\u001b[1;32m    916\u001b[0m             \u001b[0mself\u001b[0m\u001b[0;34m.\u001b[0m\u001b[0m_check_bye\u001b[0m\u001b[0;34m(\u001b[0m\u001b[0;34m)\u001b[0m\u001b[0;34m\u001b[0m\u001b[0m\n\u001b[1;32m    917\u001b[0m         \u001b[0;32mif\u001b[0m \u001b[0mtyp\u001b[0m \u001b[0;34m==\u001b[0m \u001b[0;34m'BAD'\u001b[0m\u001b[0;34m:\u001b[0m\u001b[0;34m\u001b[0m\u001b[0m\n\u001b[0;32m--> 918\u001b[0;31m             \u001b[0;32mraise\u001b[0m \u001b[0mself\u001b[0m\u001b[0;34m.\u001b[0m\u001b[0merror\u001b[0m\u001b[0;34m(\u001b[0m\u001b[0;34m'%s command error: %s %s'\u001b[0m \u001b[0;34m%\u001b[0m \u001b[0;34m(\u001b[0m\u001b[0mname\u001b[0m\u001b[0;34m,\u001b[0m \u001b[0mtyp\u001b[0m\u001b[0;34m,\u001b[0m \u001b[0mdata\u001b[0m\u001b[0;34m)\u001b[0m\u001b[0;34m)\u001b[0m\u001b[0;34m\u001b[0m\u001b[0m\n\u001b[0m\u001b[1;32m    919\u001b[0m         \u001b[0;32mreturn\u001b[0m \u001b[0mtyp\u001b[0m\u001b[0;34m,\u001b[0m \u001b[0mdata\u001b[0m\u001b[0;34m\u001b[0m\u001b[0m\n\u001b[1;32m    920\u001b[0m \u001b[0;34m\u001b[0m\u001b[0m\n",
      "\u001b[0;31merror\u001b[0m: SEARCH command error: BAD ['Could not parse command']"
     ]
    }
   ],
   "source": [
    "import sys\n",
    "import imaplib\n",
    "import getpass\n",
    "import email\n",
    "import email.header\n",
    "import datetime\n",
    "import email\n",
    "import re\n",
    "\n",
    "EMAIL_ACCOUNT = \"blond.peter@gmail.com\"\n",
    "\n",
    "# Use 'INBOX' to read inbox.  Note that whatever folder is specified, \n",
    "# after successfully running this script all emails in that folder \n",
    "# will be marked as read.\n",
    "EMAIL_FOLDER = \"INBOX\"\n",
    "\n",
    "\n",
    "def process_mailbox(M):\n",
    "    \"\"\"\n",
    "    Do something with emails messages in the folder.  \n",
    "    For the sake of this example, print some headers.\n",
    "    \"\"\"\n",
    "\n",
    "    rv, data = M.search(None, \"ALL\")\n",
    "    if rv != 'OK':\n",
    "        print(\"No messages found!\")\n",
    "        return\n",
    "\n",
    "M = imaplib.IMAP4_SSL('imap.gmail.com')\n",
    "\n",
    "try:\n",
    "    rv, data = M.login(EMAIL_ACCOUNT, getpass.getpass())\n",
    "except imaplib.IMAP4.error:\n",
    "    print (\"LOGIN FAILED!!! \")\n",
    "    sys.exit(1)\n",
    "\n",
    "print(rv, data)\n",
    "\n",
    "rv, mailboxes = M.list()\n",
    "if rv == 'OK':\n",
    "    print(\"Mailboxes:\")\n",
    "    print(mailboxes)\n",
    "\n",
    "rv, data = M.select(EMAIL_FOLDER)\n",
    "if rv == 'OK':\n",
    "    print(\"Processing mailbox...\\n\")\n",
    "    process_mailbox(M)\n",
    "    M.close()\n",
    "else:\n",
    "    print(\"ERROR: Unable to open mailbox \", rv)\n",
    "\n",
    "    \n",
    "#typ, msgnums = M.search(None, 'FROM', '\"EBHemail@email.erstebank.hu\"')\n",
    "rv, data = M.select(EMAIL_FOLDER)\n",
    "result, data = M.search(None, 'EBHemail@email.erstebank.hu')\n",
    " \n",
    "#ids = data[0] # data is a list.\n",
    "#id_list = ids.split() # ids is a space separated string\n",
    "#latest_email_id = id_list[-1] # get the latest\n",
    " \n",
    "#result, data = M.fetch(latest_email_id, \"(RFC822)\") # fetch the email body (RFC822) for the given ID\n",
    " \n",
    "raw_email = data[0][1] # here's the body, which is raw text of the whole email\n",
    "# including headers and alternate payloads\n",
    "\n",
    "email_message = email.message_from_string(raw_email)\n",
    " \n",
    "print email_message['To']\n",
    "print email.utils.parseaddr(email_message['From']) \n",
    "#print re.findall(r'egyenleg:',raw_email)\n",
    "numberFormat_1 = '(\\d+\\.{0,1}\\d\\d\\d)'\n",
    "numberFormat_2 = '(\\d+\\.{0,1}\\d\\d\\d+\\.{0,1}\\d\\d\\d)'\n",
    "\n",
    "match1 = re.search(r'\\V=C3=A1s=C3=A1rl=C3=A1s: '+numberFormat_1, raw_email)\n",
    "if match1:\n",
    "    print match1.group(1)\n",
    "match = re.search(r'\\egyenleg: '+numberFormat_2, raw_email)\n",
    "if match:\n",
    "        print match.group(1)\n",
    "#print email_message      \n",
    "##print email_message.items() # print all headers\n",
    "M.logout()"
   ]
  },
  {
   "cell_type": "code",
   "execution_count": 9,
   "metadata": {
    "collapsed": true
   },
   "outputs": [],
   "source": [
    "exit"
   ]
  }
 ],
 "metadata": {
  "kernelspec": {
   "display_name": "Python 2",
   "language": "python",
   "name": "python2"
  },
  "language_info": {
   "codemirror_mode": {
    "name": "ipython",
    "version": 2
   },
   "file_extension": ".py",
   "mimetype": "text/x-python",
   "name": "python",
   "nbconvert_exporter": "python",
   "pygments_lexer": "ipython2",
   "version": "2.7.12"
  }
 },
 "nbformat": 4,
 "nbformat_minor": 2
}
