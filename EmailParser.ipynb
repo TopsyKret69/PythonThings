{
 "cells": [
  {
   "cell_type": "code",
   "execution_count": 1,
   "metadata": {
    "collapsed": false
   },
   "outputs": [
    {
     "name": "stdout",
     "output_type": "stream",
     "text": [
      "········\n",
      "LOGIN FAILED!!! \n"
     ]
    },
    {
     "ename": "SystemExit",
     "evalue": "1",
     "output_type": "error",
     "traceback": [
      "An exception has occurred, use %tb to see the full traceback.\n",
      "\u001b[0;31mSystemExit\u001b[0m\u001b[0;31m:\u001b[0m 1\n"
     ]
    },
    {
     "name": "stderr",
     "output_type": "stream",
     "text": [
      "/usr/local/lib/python2.7/dist-packages/IPython/core/interactiveshell.py:2889: UserWarning: To exit: use 'exit', 'quit', or Ctrl-D.\n",
      "  warn(\"To exit: use 'exit', 'quit', or Ctrl-D.\", stacklevel=1)\n"
     ]
    }
   ],
   "source": [
    "import sys\n",
    "import imaplib\n",
    "import getpass\n",
    "import email\n",
    "import email.header\n",
    "import datetime\n",
    "import email\n",
    "import re\n",
    "\n",
    "EMAIL_ACCOUNT = \"anyAccount\"\n",
    "\n",
    "# Use 'INBOX' to read inbox.  Note that whatever folder is specified, \n",
    "# after successfully running this script all emails in that folder \n",
    "# will be marked as read.\n",
    "EMAIL_FOLDER = \"INBOX\"\n",
    "\n",
    "\n",
    "def process_mailbox(M):\n",
    "    \"\"\"\n",
    "    Do something with emails messages in the folder.  \n",
    "    For the sake of this example, print some headers.\n",
    "    \"\"\"\n",
    "\n",
    "    rv, data = M.search(None, \"ALL\")\n",
    "    if rv != 'OK':\n",
    "        print(\"No messages found!\")\n",
    "        return\n",
    "\n",
    "M = imaplib.IMAP4_SSL('imap.gmail.com')\n",
    "\n",
    "try:\n",
    "    rv, data = M.login(EMAIL_ACCOUNT, getpass.getpass())\n",
    "except imaplib.IMAP4.error:\n",
    "    print (\"LOGIN FAILED!!! \")\n",
    "    sys.exit(1)\n",
    "\n",
    "print(rv, data)\n",
    "\n",
    "rv, mailboxes = M.list()\n",
    "if rv == 'OK':\n",
    "    print(\"Mailboxes:\")\n",
    "    print(mailboxes)\n",
    "\n",
    "rv, data = M.select(EMAIL_FOLDER)\n",
    "if rv == 'OK':\n",
    "    print(\"Processing mailbox...\\n\")\n",
    "    process_mailbox(M)\n",
    "    M.close()\n",
    "else:\n",
    "    print(\"ERROR: Unable to open mailbox \", rv)\n",
    "\n",
    "    \n",
    "#typ, msgnums = M.search(None, 'FROM', '\"EBHemail@email.erstebank.hu\"')\n",
    "rv, data = M.select(EMAIL_FOLDER)\n",
    "result, data = M.search(None, 'EBHemail@email.erstebank.hu')\n",
    " \n",
    "#ids = data[0] # data is a list.\n",
    "#id_list = ids.split() # ids is a space separated string\n",
    "#latest_email_id = id_list[-1] # get the latest\n",
    " \n",
    "#result, data = M.fetch(latest_email_id, \"(RFC822)\") # fetch the email body (RFC822) for the given ID\n",
    " \n",
    "raw_email = data[0][1] # here's the body, which is raw text of the whole email\n",
    "# including headers and alternate payloads\n",
    "\n",
    "email_message = email.message_from_string(raw_email)\n",
    " \n",
    "print email_message['To']\n",
    "print email.utils.parseaddr(email_message['From']) \n",
    "#print re.findall(r'egyenleg:',raw_email)\n",
    "numberFormat_1 = '(\\d+\\.{0,1}\\d\\d\\d)'\n",
    "numberFormat_2 = '(\\d+\\.{0,1}\\d\\d\\d+\\.{0,1}\\d\\d\\d)'\n",
    "\n",
    "match1 = re.search(r'\\V=C3=A1s=C3=A1rl=C3=A1s: '+numberFormat_1, raw_email)\n",
    "if match1:\n",
    "    print match1.group(1)\n",
    "match = re.search(r'\\egyenleg: '+numberFormat_2, raw_email)\n",
    "if match:\n",
    "        print match.group(1)\n",
    "#print email_message      \n",
    "##print email_message.items() # print all headers\n",
    "M.logout()"
   ]
  },
  {
   "cell_type": "code",
   "execution_count": 9,
   "metadata": {
    "collapsed": true
   },
   "outputs": [],
   "source": [
    "exit"
   ]
  }
 ],
 "metadata": {
  "kernelspec": {
   "display_name": "Python 2",
   "language": "python",
   "name": "python2"
  },
  "language_info": {
   "codemirror_mode": {
    "name": "ipython",
    "version": 2
   },
   "file_extension": ".py",
   "mimetype": "text/x-python",
   "name": "python",
   "nbconvert_exporter": "python",
   "pygments_lexer": "ipython2",
   "version": "2.7.12"
  }
 },
 "nbformat": 4,
 "nbformat_minor": 2
}
