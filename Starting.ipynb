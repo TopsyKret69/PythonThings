{
 "cells": [
  {
   "cell_type": "code",
   "execution_count": 113,
   "metadata": {
    "collapsed": false
   },
   "outputs": [
    {
     "name": "stdout",
     "output_type": "stream",
     "text": [
      "[-0.00367647  0.00490196  0.02573529  0.05882353]\n",
      "[ 0.96813725  0.93137255  0.87009804  0.78431373]\n",
      "[ 0.01593137  0.04411765  0.08455882  0.1372549 ]\n",
      "0.980392156863\n",
      "0.980392156863\n",
      "[[ 0.96813725  0.01593137  0.          0.        ]\n",
      " [ 0.00490196  0.93137255  0.04411765  0.        ]\n",
      " [ 0.          0.02573529  0.87009804  0.08455882]\n",
      " [ 0.          0.          0.05882353  0.78431373]]\n",
      "0.980392156863\n",
      "[[ 0.96813725  0.          0.          0.        ]\n",
      " [ 0.          0.93137255  0.          0.        ]\n",
      " [ 0.          0.          0.87009804  0.        ]\n",
      " [ 0.          0.          0.          0.78431373]]\n",
      "0.00490196078431\n",
      "[[ 3.  3.  3.]\n",
      " [ 0.  0.  0.]\n",
      " [ 0.  0.  0.]]\n",
      "[  0.   0.   0.  10.  30.  50.]\n",
      "[[  0.   0.   0.   0.   0.   0.]\n",
      " [  0.   0.   0.   0.   0.   0.]\n",
      " [  0.   0.   0.   0.   0.   0.]\n",
      " [  0.   0.   0.   0.   0.  10.]\n",
      " [  0.   0.   0.   0.   0.  30.]\n",
      " [  0.   0.   0.   0.   0.  50.]]\n"
     ]
    }
   ],
   "source": [
    "import numpy as np\n",
    "#a = np.arange(15).reshape(3, 5)\n",
    "#print a\n",
    "import matplotlib.pyplot as plt\n",
    "#plt.plot(a)\n",
    "#plt.ylabel('some numbers')\n",
    "#plt.show()\n",
    "r=0.1\n",
    "q=0.0\n",
    "sigma=0.25\n",
    "Space_Steps = 5\n",
    "dt=1.0/float(5)\n",
    "    \n",
    "j=np.arange(1,Space_Steps,dtype=np.float)   \n",
    "#'Transition Probabilities'\n",
    "a=(-0.5*(r-q)*dt*j+0.5*sigma**2*dt*j**2)/(1.0+r*dt)\n",
    "b=(1.0-sigma**2*dt*j**2)/(1.0+r*dt)\n",
    "c=(0.5*(r-q)*dt*j+0.5*sigma**2*dt*j**2)/(1.0+r*dt)\n",
    "#The matrix from the transition probabilities\n",
    "A=np.diag(b)+np.diag(a[1:],k=-1)+np.diag(c[0:Space_Steps-2],k=1)\n",
    "print a\n",
    "print b\n",
    "print c\n",
    "print 1/(1+dt*r)\n",
    "print b[1]+a[1]+c[1]\n",
    "print A\n",
    "print A[1,0]+A[1,1]+A[1,2]\n",
    "print np.diag(b)\n",
    "print a[1]\n",
    "x=np.zeros((3,3))\n",
    "x[0,:]=3.0\n",
    "print x\n",
    "A = np.zeros((6,6))\n",
    "print np.maximum(np.arange(0,102.0,20,dtype=np.float)-50,0.0)\n",
    "A[:,5] = np.maximum(np.arange(0,102.0,20,dtype=np.float)-50,0.0)\n",
    "print A"
   ]
  },
  {
   "cell_type": "code",
   "execution_count": 2,
   "metadata": {
    "collapsed": false
   },
   "outputs": [
    {
     "name": "stdout",
     "output_type": "stream",
     "text": [
      "[ 5.    4.95  4.9   4.85  4.8   4.75  4.7   4.65  4.6   4.55  4.5   4.45\n",
      "  4.4   4.35  4.3   4.25  4.2   4.15  4.1   4.05  4.    3.95  3.9   3.85\n",
      "  3.8   3.75  3.7   3.65  3.6   3.55  3.5   3.45  3.4   3.35  3.3   3.25\n",
      "  3.2   3.15  3.1   3.05  3.    2.95  2.9   2.85  2.8   2.75  2.7   2.65\n",
      "  2.6   2.55  2.5   2.45  2.4   2.35  2.3   2.25  2.2   2.15  2.1   2.05\n",
      "  2.    1.95  1.9   1.85  1.8   1.75  1.7   1.65  1.6   1.55  1.5   1.45\n",
      "  1.4   1.35  1.3   1.25  1.2   1.15  1.1   1.05  1.    0.95  0.9   0.85\n",
      "  0.8   0.75  0.7   0.65  0.6   0.55  0.5   0.45  0.4   0.35  0.3   0.25\n",
      "  0.2   0.15  0.1   0.05]\n",
      "845.875\n",
      "1\n",
      "16\n",
      "49\n",
      "100\n",
      "169\n",
      "256\n",
      "361\n"
     ]
    }
   ],
   "source": [
    "Start = 0.0\n",
    "Maturity = 5.0\n",
    "S_Min = 0\n",
    "S_Max = 1000\n",
    "N=100\n",
    "M=500.0\n",
    "\n",
    "t=np.arange(Maturity, Start,-(Maturity-Start)/N)\n",
    "print t\n",
    "print np.vdot(t,t)\n",
    "\n",
    "\n",
    "for i in range(1,20,3):\n",
    "    print i*i \n",
    "    "
   ]
  },
  {
   "cell_type": "code",
   "execution_count": 5,
   "metadata": {
    "collapsed": false
   },
   "outputs": [
    {
     "name": "stdout",
     "output_type": "stream",
     "text": [
      "3.228\n"
     ]
    }
   ],
   "source": [
    "# Approximation of the Pi\n",
    "y= 0.0\n",
    "pi=0.0\n",
    "N = 1000\n",
    "for i in range(1, N, 1):\n",
    "    x=np.random.rand(1)\n",
    "    y=np.random.rand(1)\n",
    "    if (x*x+y*y<1):\n",
    "        pi = pi+1.0\n",
    "print 4*pi/N"
   ]
  },
  {
   "cell_type": "code",
   "execution_count": 8,
   "metadata": {
    "collapsed": false
   },
   "outputs": [
    {
     "name": "stdout",
     "output_type": "stream",
     "text": [
      "[ 1.1  1.2  1.3]\n",
      "1.1\n",
      "1.3\n",
      "2\n",
      "0\n",
      "True\n",
      "None\n",
      "[[-2.   1. ]\n",
      " [ 1.5 -0.5]]\n",
      "4\n",
      "2\n",
      "2\n",
      "15\n",
      "0.0\n",
      "8\n",
      "[[ 0.  0.  0.  0.  0.]\n",
      " [ 0.  0.  0.  0.  0.]\n",
      " [ 0.  0.  0.  0.  0.]]\n",
      "[[2 2]]\n",
      "[[1 2]\n",
      " [3 4]]\n",
      "[[ 7 10]\n",
      " [15 22]]\n",
      "[[5]]\n",
      "[[-2.   1. ]\n",
      " [ 1.5 -0.5]]\n",
      "[[  0.   2.  10.  24.  44.]\n",
      " [  0.   3.  12.  27.  48.]\n",
      " [ -2.   2.  12.  28.  50.]\n",
      " [ -6.  -1.  10.  27.  50.]\n",
      " [-12.  -6.   6.  24.  48.]]\n",
      "[[  0.   2.  10.  24.  44.]\n",
      " [  0.   3.  12.  27.  48.]\n",
      " [ -2.   2.  12.  28.  50.]\n",
      " [ -6.  -1.  10.  27.  50.]\n",
      " [-12.  -6.   6.  24.  48.]]\n",
      "[[ 0.  0.  0.  0.  0.]\n",
      " [ 0.  0.  0.  0.  0.]\n",
      " [ 0.  0.  0.  0.  0.]\n",
      " [ 0.  0.  0.  0.  0.]\n",
      " [ 0.  0.  0.  0.  0.]]\n",
      "[[  0.   2.  10.  24.  44.]\n",
      " [  0.   3.  12.  27.  48.]\n",
      " [ -2.   2.  12.  28.  50.]\n",
      " [ -6.  -1.  10.  27.  50.]\n",
      " [-12.  -6.   6.  24.  48.]]\n",
      "12.0\n",
      "0.0\n",
      "3.0\n",
      "[[  0.   2.  10.  24.  44.]\n",
      " [  0.   3.  12.  27.  48.]\n",
      " [ -2.   2.  12.  28.  50.]\n",
      " [ -6.  -1.  10.  27.  50.]\n",
      " [-12.  -6.   6.  24.  48.]]\n"
     ]
    },
    {
     "data": {
      "text/plain": [
       "' this is not working: print matrix_M[1][3]'"
      ]
     },
     "execution_count": 8,
     "metadata": {},
     "output_type": "execute_result"
    }
   ],
   "source": [
    "#Having fun with vectors\n",
    "\n",
    "vec=np.array([1.1, 1.2, 1.3])\n",
    "print vec\n",
    "print vec[0]\n",
    "print vec[vec.size-1]\n",
    "\n",
    "print vec.argmax()\n",
    "print vec.argmin()\n",
    "print vec.any()\n",
    "print vec.base\n",
    "\n",
    "vec_two = np.ndarray([2,2], dtype=float)\n",
    "print vec_two\n",
    "print vec_two.size\n",
    "print vec_two.ndim\n",
    "vec_tree = np.ndarray([3,5], dtype=float)\n",
    "print vec_tree.ndim\n",
    "print vec_tree.size\n",
    "\n",
    "print vec_tree[2,2]\n",
    "\n",
    "print vec_tree.itemsize\n",
    "print vec_tree.imag\n",
    "matrix_1 = np.matrix([2,2])\n",
    "print matrix_1\n",
    "matrix_1 = np.matrix([[1,2],[3,4]])\n",
    "print matrix_1\n",
    "print matrix_1*matrix_1\n",
    "print matrix_1.trace()\n",
    "from numpy.linalg import inv\n",
    "print inv(matrix_1)\n",
    "\n",
    "\n",
    "cols = 5\n",
    "matrix_N = np.ndarray(shape=(cols,cols))\n",
    "for i in range(0,cols,1):\n",
    "    for j in range(0,cols,1):\n",
    "        matrix_N[i][j] = i*j-j+i-i*i+3*j*j\n",
    "\n",
    "print matrix_N\n",
    "\n",
    "matrix_M = np.matrix(matrix_N)\n",
    "print matrix_M\n",
    "print matrix_M -matrix_N\n",
    "\n",
    "print matrix_N\n",
    "print matrix_N[1][2]\n",
    "print matrix_N[0][0]\n",
    "print matrix_N[1][1]\n",
    "print matrix_N\n",
    "\"\"\" this is not working: print matrix_M[1][3]\"\"\""
   ]
  },
  {
   "cell_type": "code",
   "execution_count": 25,
   "metadata": {
    "collapsed": false
   },
   "outputs": [
    {
     "name": "stdout",
     "output_type": "stream",
     "text": [
      "14\n",
      "2\n",
      "25\n",
      "[[  0.   2.  10.  24.  44.]\n",
      " [  0.   3.  12.  27.  48.]\n",
      " [ -2.   2.  12.  28.  50.]\n",
      " [ -6.  -1.  10.  27.  50.]\n",
      " [-12.  -6.   6.  24.  48.]]\n",
      "0\n",
      "1\n",
      "2\n",
      "3\n",
      "4\n",
      "0\n",
      "1\n",
      "2\n",
      "3\n",
      "4\n",
      "0\n",
      "1\n",
      "2\n",
      "3\n",
      "4\n",
      "0\n",
      "1\n",
      "2\n",
      "3\n",
      "4\n",
      "0\n",
      "1\n",
      "2\n",
      "3\n",
      "4\n"
     ]
    }
   ],
   "source": [
    "print matrix_N.argmax()\n",
    "print matrix_N.ndim\n",
    "print matrix_N.size\n",
    "print matrix_N.view()\n",
    "matrix_N.shape\n",
    "for i in range(0,matrix_N.shape[0],1):\n",
    "    for j in range(0,matrix_N.shape[1],1):\n",
    "            print j"
   ]
  },
  {
   "cell_type": "code",
   "execution_count": 35,
   "metadata": {
    "collapsed": false
   },
   "outputs": [
    {
     "name": "stdout",
     "output_type": "stream",
     "text": [
      "1000\n",
      "[[    0.          1000.           500.           333.33333333   250.           200.\n",
      "    166.66666667   142.85714286   125.           111.11111111   100.\n",
      "     90.90909091    83.33333333    76.92307692    71.42857143\n",
      "     66.66666667    62.5           58.82352941    55.55555556\n",
      "     52.63157895    50.            47.61904762    45.45454545\n",
      "     43.47826087    41.66666667    40.            38.46153846\n",
      "     37.03703704    35.71428571    34.48275862    33.33333333\n",
      "     32.25806452    31.25          30.3030303     29.41176471\n",
      "     28.57142857    27.77777778    27.02702703    26.31578947\n",
      "     25.64102564    25.            24.3902439     23.80952381\n",
      "     23.25581395    22.72727273    22.22222222    21.73913043\n",
      "     21.27659574    20.83333333    20.40816327    20.            19.60784314\n",
      "     19.23076923    18.86792453    18.51851852    18.18181818\n",
      "     17.85714286    17.54385965    17.24137931    16.94915254\n",
      "     16.66666667    16.39344262    16.12903226    15.87301587    15.625\n",
      "     15.38461538    15.15151515    14.92537313    14.70588235\n",
      "     14.49275362    14.28571429    14.08450704    13.88888889\n",
      "     13.69863014    13.51351351    13.33333333    13.15789474\n",
      "     12.98701299    12.82051282    12.65822785    12.5           12.34567901\n",
      "     12.19512195    12.04819277    11.9047619     11.76470588\n",
      "     11.62790698    11.49425287    11.36363636    11.23595506\n",
      "     11.11111111    10.98901099    10.86956522    10.75268817\n",
      "     10.63829787    10.52631579    10.41666667    10.30927835\n",
      "     10.20408163    10.1010101 ]]\n"
     ]
    }
   ],
   "source": [
    "print S_Max\n",
    "S_vector = np.ndarray(shape=(1,100), dtype=float)\n",
    "for i in range(1,100,1):\n",
    "    S_vector[0][i] =float( S_Max)/float(i)\n",
    "print S_vector"
   ]
  }
 ],
 "metadata": {
  "celltoolbar": "Edit Metadata",
  "kernelspec": {
   "display_name": "Python 2",
   "language": "python",
   "name": "python2"
  },
  "language_info": {
   "codemirror_mode": {
    "name": "ipython",
    "version": 2
   },
   "file_extension": ".py",
   "mimetype": "text/x-python",
   "name": "python",
   "nbconvert_exporter": "python",
   "pygments_lexer": "ipython2",
   "version": "2.7.12"
  }
 },
 "nbformat": 4,
 "nbformat_minor": 2
}
