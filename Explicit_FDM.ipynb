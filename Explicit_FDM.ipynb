{
 "cells": [
  {
   "cell_type": "code",
   "execution_count": 637,
   "metadata": {
    "collapsed": false
   },
   "outputs": [],
   "source": [
    "import numpy as np\n",
    "from numpy import linalg as la\n",
    "def VanillaOption_Explicit(\n",
    "                  S_0,\n",
    "                  T,\n",
    "                  K,\n",
    "                  r,\n",
    "                  q,\n",
    "                  sigma,\n",
    "                  Time_Steps,\n",
    "                  Space_Steps,\n",
    "                  isCall,\n",
    "                  isAmerican):\n",
    "    outVector = np.zeros((2,1),dtype = float)\n",
    "    S_max =  2.0*S_0\n",
    "    S_min = 0.0\n",
    "    #Discretization of the Stock and the Time\n",
    "    dS=(S_max-S_min)/float(Space_Steps)   \n",
    "    dt=T/float(Time_Steps)\n",
    "    FV=np.zeros((Time_Steps+1,Space_Steps+1))\n",
    "    j=np.arange(1,Space_Steps,dtype=np.float)   \n",
    "    #'Transition Probabilities'\n",
    "    lower=(-0.5*(r-q)*dt*j+0.5*sigma**2*dt*j**2)/(1.0+r*dt)\n",
    "    diag=(1.0-sigma**2*dt*j**2)/(1.0+r*dt)\n",
    "    upper=(0.5*(r-q)*dt*j+0.5*sigma**2*dt*j**2)/(1.0+r*dt)\n",
    "    #The matrix from the transition probabilities\n",
    "    A=np.diag(diag)+np.diag(lower[1:Space_Steps-1],k=-1)+np.diag(upper[0:Space_Steps-2],k=1)\n",
    "    infinityNormOfA = la.norm(A,np.inf)\n",
    "    outVector[1] = infinityNormOfA\n",
    "    #The matrix for the option price\n",
    "    #N+1: Time Steps\n",
    "    #M+1: Stock Steps   \n",
    "    #Set up the boundary conditions//Contract dependent :-(\n",
    "    if(bool(isCall)):\n",
    "        FV[:,0]=S_min\n",
    "        FV[:,Space_Steps]=[S_max * np.exp(-r*( Time_Steps - j)*dt)-K for j in range(Time_Steps+1)]\n",
    "        FV[Time_Steps,:]=np.maximum(np.arange(S_min,S_max+dS/2.0,dS,dtype=np.float)-K,0)\n",
    "    else:\n",
    "        FV[:,0]=[K * np.exp(-r*( Time_Steps - j)*dt) for j in range(Time_Steps+1)]\n",
    "        FV[:,Space_Steps]=0\n",
    "        FV[Time_Steps,:]=np.maximum(K-np.arange(S_min,S_max+dS/2.0,dS,dtype=np.float),0)\n",
    "    \n",
    "    FV=np.matrix(np.array(FV))\n",
    "    #Start the Backward Iteration\n",
    "    for i in range(Time_Steps-1,-1,-1):\n",
    "        k_i=np.zeros((Space_Steps-1,1))\n",
    "        #Inserts the first and the last element\n",
    "        k_i[0]=lower[0]*FV[i+1,0] \n",
    "        k_i[Space_Steps-2]=upper[Space_Steps-2]*FV[i+1,Space_Steps]\n",
    "        \n",
    "        FV[i,1:Space_Steps]=np.dot(FV[i+1,1:Space_Steps],A)+np.matrix(np.array(k_i)).transpose()\n",
    "        \n",
    "        if(bool(isAmerican)):\n",
    "            if(bool(isCall)):\n",
    "                FV[i,:] = np.maximum(np.arange(S_min,S_max+dS/2,dS,dtype=float)-K,FV[i,:]) \n",
    "            else:\n",
    "                FV[i,:] = np.maximum(K-np.arange(S_min,S_max+dS/2,dS,dtype=float),FV[i,:])\n",
    "        outVector[0] = FV[0,(FV.shape[1]+1)/2]\n",
    "    return outVector\n",
    "def VanillaOption_Explicit_Barrier(\n",
    "                  S_0,\n",
    "                  T,\n",
    "                  K,\n",
    "                  r,\n",
    "                  q,\n",
    "                  sigma,\n",
    "                  Time_Steps,\n",
    "                  Space_Steps,\n",
    "                  isCall,\n",
    "                  isAmerican,\n",
    "                  Barrier):\n",
    "    outVector = np.zeros((2,1),dtype = float)\n",
    "    S_max =  2.0*S_0\n",
    "    S_min = 0.0\n",
    "    #Discretization of the Stock and the Time\n",
    "    dS=(S_max-S_min)/float(Space_Steps)   \n",
    "    dt=T/float(Time_Steps)\n",
    "    FV=np.zeros((Time_Steps+1,Space_Steps+1))\n",
    "    j=np.arange(1,Space_Steps,dtype=np.float)   \n",
    "    #'Transition Probabilities'\n",
    "    lower=(-0.5*(r-q)*dt*j+0.5*sigma**2*dt*j**2)/(1.0+r*dt)\n",
    "    diag=(1.0-sigma**2*dt*j**2)/(1.0+r*dt)\n",
    "    upper=(0.5*(r-q)*dt*j+0.5*sigma**2*dt*j**2)/(1.0+r*dt)\n",
    "    #The matrix from the transition probabilities\n",
    "    A=np.diag(diag)+np.diag(lower[1:Space_Steps-1],k=-1)+np.diag(upper[0:Space_Steps-2],k=1)\n",
    "    infinityNormOfA = la.norm(A,np.inf)\n",
    "    outVector[1] = infinityNormOfA\n",
    "    #The matrix for the option price\n",
    "    #N+1: Time Steps\n",
    "    #M+1: Stock Steps   \n",
    "    #Set up the boundary conditions//Contract dependent :-(\n",
    "    if(bool(isCall)):\n",
    "        FV[:,0]=S_min\n",
    "        FV[:,Space_Steps]=[S_max * np.exp(-r*( Time_Steps - j)*dt)-K for j in range(Time_Steps+1)]\n",
    "        FV[Time_Steps,:]=np.maximum(np.arange(S_min,S_max+dS/2.0,dS,dtype=np.float)-K,0)\n",
    "    else:\n",
    "        FV[:,0]=[K * np.exp(-r*( Time_Steps - j)*dt) for j in range(Time_Steps+1)]\n",
    "        FV[:,Space_Steps]=0\n",
    "        FV[Time_Steps,:]=np.maximum(K-np.arange(S_min,S_max+dS/2.0,dS,dtype=np.float),0)    \n",
    "    \n",
    "    FV=np.matrix(np.array(FV))\n",
    "    #Start the Backward Iteration\n",
    "    for i in range(Time_Steps-1,-1,-1):\n",
    "        k_i=np.zeros((Space_Steps-1,1))\n",
    "        if(bool(isAmerican) == 0):\n",
    "            FV[FV>(Barrier-K)]=0.0\n",
    "            \n",
    "        k_i[0]=lower[0]*FV[i+1,0] \n",
    "        k_i[Space_Steps-2]=upper[Space_Steps-2]*FV[i+1,Space_Steps]\n",
    "        \n",
    "        FV[i,1:Space_Steps]=np.dot(FV[i+1,1:Space_Steps],A)+np.matrix(np.array(k_i)).transpose()\n",
    "        \n",
    "        if(bool(isAmerican)):\n",
    "            if(bool(isCall)):\n",
    "                FV[FV<Barrier-K]=0\n",
    "                FV[i,:] = np.maximum(np.arange(S_min,S_max+dS/2,dS,dtype=float)-K,FV[i,:]) \n",
    "            else:\n",
    "                FV[FV<Barrier-K]=0\n",
    "                FV[i,:] = np.maximum(K-np.arange(S_min,S_max+dS/2,dS,dtype=float),FV[i,:])\n",
    "        outVector[0] = FV[0,(FV.shape[1]+1)/2]\n",
    "    return outVector"
   ]
  },
  {
   "cell_type": "code",
   "execution_count": 642,
   "metadata": {
    "collapsed": false
   },
   "outputs": [
    {
     "name": "stdout",
     "output_type": "stream",
     "text": [
      "[[ 7.58665005]\n",
      " [ 0.99837824]]\n",
      "[[ 0.        ]\n",
      " [ 0.99837824]]\n"
     ]
    }
   ],
   "source": [
    "S_0 = 50.0\n",
    "T=1.0\n",
    "K=50.0\n",
    "r=0.1\n",
    "q=0.00\n",
    "sigma = 0.25\n",
    "Time_Steps=50\n",
    "Space_Steps=22\n",
    "isCall = 1\n",
    "isAmerican = 0\n",
    "print VanillaOption_Explicit(\n",
    "                    S_0,\n",
    "                    T,\n",
    "                    K,\n",
    "                    r,\n",
    "                    q,\n",
    "                    sigma,\n",
    "                    Time_Steps,\n",
    "                    Space_Steps,\n",
    "                    isCall,\n",
    "                    isAmerican)\n",
    "Barrier = 50\n",
    "print VanillaOption_Explicit_Barrier(\n",
    "                    S_0,\n",
    "                    T,\n",
    "                    K,\n",
    "                    r,\n",
    "                    q,\n",
    "                    sigma,\n",
    "                    Time_Steps,\n",
    "                    Space_Steps,\n",
    "                    isCall,\n",
    "                    isAmerican,\n",
    "                    Barrier)"
   ]
  },
  {
   "cell_type": "code",
   "execution_count": 592,
   "metadata": {
    "collapsed": false
   },
   "outputs": [
    {
     "data": {
      "image/png": "[encoded data removed]",
      "text/plain": [
       "<matplotlib.figure.Figure at 0x7fb1cc33b8d0>"
      ]
     },
     "metadata": {},
     "output_type": "display_data"
    }
   ],
   "source": [
    "S_0 = 50.0\n",
    "T=1.0\n",
    "vec_K=np.arange(0,100,2,float)\n",
    "r=0.1\n",
    "q=0.00\n",
    "sigma = 0.25\n",
    "Time_Steps=50\n",
    "Space_Steps=22\n",
    "isCall = 1\n",
    "isAmerican = 0\n",
    "fv_Strikes = np.zeros(vec_K.shape[0]-1)\n",
    "for i in range(0,vec_K.shape[0]-1):\n",
    "     fv_Strikes[i] = VanillaOption_Explicit(\n",
    "                    S_0,\n",
    "                    T,\n",
    "                    vec_K[i],\n",
    "                    r,\n",
    "                    q,\n",
    "                    sigma,\n",
    "                    Time_Steps,\n",
    "                    Space_Steps,\n",
    "                    isCall,\n",
    "                    isAmerican)[0,0]\n",
    "plt.plot(fv_Strikes)\n",
    "plt.ylabel(\"FairValue as a function of Strikes\")\n",
    "plt.xlabel(\"Strike\")\n",
    "plt.show()"
   ]
  },
  {
   "cell_type": "code",
   "execution_count": 634,
   "metadata": {
    "collapsed": false
   },
   "outputs": [
    {
     "data": {
      "image/png": "[encoded data removed]",
      "text/plain": [
       "<matplotlib.figure.Figure at 0x7fb1cbfeb050>"
      ]
     },
     "metadata": {},
     "output_type": "display_data"
    }
   ],
   "source": [
    "S_0 = 50.0\n",
    "vec_T=np.arange(0.01,3.5,0.5, float)\n",
    "K=50\n",
    "r=0.1\n",
    "q=0.00\n",
    "sigma = 0.25\n",
    "Time_Steps=50\n",
    "Space_Steps=22\n",
    "isCall = 1\n",
    "isAmerican = 0\n",
    "fv_Maturity = np.zeros(vec_T.shape[0]-1)\n",
    "for i in range(0,vec_T.shape[0]-1):\n",
    "     fv_Maturity[i] = VanillaOption_Explicit(\n",
    "                    S_0,\n",
    "                    vec_T[i],\n",
    "                    K,\n",
    "                    r,\n",
    "                    q,\n",
    "                    sigma,\n",
    "                    Time_Steps,\n",
    "                    Space_Steps,\n",
    "                    isCall,\n",
    "                    isAmerican)[0,0]\n",
    "plt.plot(fv_Maturity)\n",
    "plt.ylabel(\"FairValue as a function of Maturity\")\n",
    "plt.xlabel(\"Maturities\")\n",
    "plt.show()"
   ]
  },
  {
   "cell_type": "code",
   "execution_count": 643,
   "metadata": {
    "collapsed": false
   },
   "outputs": [
    {
     "name": "stdout",
     "output_type": "stream",
     "text": [
      "7.48789538916\n"
     ]
    }
   ],
   "source": [
    "import math as math\n",
    "def phi(x):\n",
    "    'Cumulative distribution function for the standard normal distribution'\n",
    "    return (1.0 + math.erf(x / np.sqrt(2.0))) / 2.0\n",
    "def BlackScholes(S,\n",
    "                 T,\n",
    "                 K,\n",
    "                 r,\n",
    "                 q,\n",
    "                 sigma,\n",
    "                 isCall):\n",
    "    d1=(np.log(S/K)+T*(r-q+0.5*sigma**2))/(sigma*np.sqrt(T))\n",
    "    d2=d1-np.sqrt(T)*sigma\n",
    "    if(bool(isCall)):\n",
    "            return S*phi(d1)- math.exp(-(r)*T)*K*phi(d2)\n",
    "    else:\n",
    "        return math.exp(-r*T)*K*phi(-d2)-S*phi(-d1) \n",
    "x=BlackScholes(S_0,T,K,r,q,sigma,isCall)\n",
    "print x"
   ]
  },
  {
   "cell_type": "code",
   "execution_count": 576,
   "metadata": {
    "collapsed": false
   },
   "outputs": [
    {
     "name": "stdout",
     "output_type": "stream",
     "text": [
      "7.48789538916\n"
     ]
    },
    {
     "data": {
      "image/png": "[encoded data removed]",
      "text/plain": [
       "<matplotlib.figure.Figure at 0x7fb1ccc792d0>"
      ]
     },
     "metadata": {},
     "output_type": "display_data"
    }
   ],
   "source": [
    "#Numerical Convergence\n",
    "TimeSteps=np.arange(10,156,5)\n",
    "SpaceSteps = np.arange(2,50,1)\n",
    "vecDiffs=np.zeros(SpaceSteps.shape[0]-1)\n",
    "S_0 = 50.0\n",
    "T=1.0\n",
    "K=50.0\n",
    "r=0.1\n",
    "q=0.00\n",
    "sigma = 0.25\n",
    "Time_Steps=100\n",
    "Space_Steps=30\n",
    "isCall = 1\n",
    "isAmerican = 0\n",
    "for i in range(0,SpaceSteps.shape[0]-1):\n",
    "    vecDiffs[i] = x - VanillaOption_Explicit(\n",
    "                        S_0,\n",
    "                        T,\n",
    "                        K,\n",
    "                        r,\n",
    "                        q,\n",
    "                        sigma,\n",
    "                        Time_Steps,\n",
    "                        SpaceSteps[i],\n",
    "                        isCall,\n",
    "                        isAmerican)[0,0]\n",
    "plt.plot(vecDiffs)\n",
    "plt.ylabel(\"Difference as a function of Space Steps\")\n",
    "plt.show()\n"
   ]
  },
  {
   "cell_type": "code",
   "execution_count": 552,
   "metadata": {
    "collapsed": false
   },
   "outputs": [
    {
     "name": "stdout",
     "output_type": "stream",
     "text": [
      "[[ 7.55936942]\n",
      " [ 0.99837703]]\n"
     ]
    },
    {
     "ename": "TypeError",
     "evalue": "data type not understood",
     "output_type": "error",
     "traceback": [
      "\u001b[0;31m---------------------------------------------------------------------------\u001b[0m",
      "\u001b[0;31mTypeError\u001b[0m                                 Traceback (most recent call last)",
      "\u001b[0;32m<ipython-input-552-c6866c6887dd>\u001b[0m in \u001b[0;36m<module>\u001b[0;34m()\u001b[0m\n\u001b[1;32m     20\u001b[0m                     \u001b[0mSpace_Steps\u001b[0m\u001b[0;34m,\u001b[0m\u001b[0;34m\u001b[0m\u001b[0m\n\u001b[1;32m     21\u001b[0m                     \u001b[0misCall\u001b[0m\u001b[0;34m,\u001b[0m\u001b[0;34m\u001b[0m\u001b[0m\n\u001b[0;32m---> 22\u001b[0;31m                     isAmerican)\n\u001b[0m\u001b[1;32m     23\u001b[0m \u001b[0;32mdef\u001b[0m \u001b[0mstabilityCondition\u001b[0m\u001b[0;34m(\u001b[0m\u001b[0mTime_Steps\u001b[0m\u001b[0;34m,\u001b[0m\u001b[0mSpace_Steps\u001b[0m\u001b[0;34m,\u001b[0m\u001b[0mr\u001b[0m\u001b[0;34m,\u001b[0m\u001b[0msigma\u001b[0m\u001b[0;34m,\u001b[0m\u001b[0mT\u001b[0m\u001b[0;34m)\u001b[0m\u001b[0;34m:\u001b[0m\u001b[0;34m\u001b[0m\u001b[0m\n\u001b[1;32m     24\u001b[0m     \u001b[0mdt\u001b[0m\u001b[0;34m=\u001b[0m\u001b[0mT\u001b[0m\u001b[0;34m/\u001b[0m\u001b[0mfloat\u001b[0m\u001b[0;34m(\u001b[0m\u001b[0mTime_Steps\u001b[0m\u001b[0;34m)\u001b[0m\u001b[0;34m\u001b[0m\u001b[0m\n",
      "\u001b[0;32m<ipython-input-551-c6866c6887dd>\u001b[0m in \u001b[0;36mVanillaOption_CrankNicolson\u001b[0;34m(S_0, T, K, r, q, sigma, N, M, isCall, isAmerican)\u001b[0m\n\u001b[1;32m    149\u001b[0m \u001b[0;34m\u001b[0m\u001b[0m\n\u001b[1;32m    150\u001b[0m \u001b[0;34m\u001b[0m\u001b[0m\n\u001b[0;32m--> 151\u001b[0;31m         \u001b[0mFV\u001b[0m\u001b[0;34m[\u001b[0m\u001b[0mi\u001b[0m\u001b[0;34m,\u001b[0m\u001b[0;36m1\u001b[0m\u001b[0;34m:\u001b[0m\u001b[0mM\u001b[0m\u001b[0;34m]\u001b[0m\u001b[0;34m=\u001b[0m \u001b[0mnp\u001b[0m\u001b[0;34m.\u001b[0m\u001b[0mdot\u001b[0m\u001b[0;34m(\u001b[0m\u001b[0mFV\u001b[0m\u001b[0;34m[\u001b[0m\u001b[0mi\u001b[0m\u001b[0;34m+\u001b[0m\u001b[0;36m1\u001b[0m\u001b[0;34m,\u001b[0m\u001b[0;36m1\u001b[0m\u001b[0;34m:\u001b[0m\u001b[0mM\u001b[0m\u001b[0;34m]\u001b[0m\u001b[0;34m,\u001b[0m\u001b[0miteratingMatrix\u001b[0m\u001b[0;34m)\u001b[0m\u001b[0;34m+\u001b[0m \u001b[0mnp\u001b[0m\u001b[0;34m.\u001b[0m\u001b[0mdot\u001b[0m\u001b[0;34m(\u001b[0m\u001b[0mnp\u001b[0m\u001b[0;34m.\u001b[0m\u001b[0mmatrix\u001b[0m\u001b[0;34m(\u001b[0m\u001b[0mnp\u001b[0m\u001b[0;34m.\u001b[0m\u001b[0marray\u001b[0m\u001b[0;34m(\u001b[0m\u001b[0mk_i\u001b[0m\u001b[0;34m)\u001b[0m\u001b[0;34m,\u001b[0m\u001b[0mInverseOfC\u001b[0m\u001b[0;34m)\u001b[0m\u001b[0;34m)\u001b[0m\u001b[0;34m.\u001b[0m\u001b[0mtranspose\u001b[0m\u001b[0;34m(\u001b[0m\u001b[0;34m)\u001b[0m\u001b[0;34m+\u001b[0m \u001b[0mnp\u001b[0m\u001b[0;34m.\u001b[0m\u001b[0mdot\u001b[0m\u001b[0;34m(\u001b[0m\u001b[0mnp\u001b[0m\u001b[0;34m.\u001b[0m\u001b[0mmatrix\u001b[0m\u001b[0;34m(\u001b[0m\u001b[0mnp\u001b[0m\u001b[0;34m.\u001b[0m\u001b[0marray\u001b[0m\u001b[0;34m(\u001b[0m\u001b[0mk_i1\u001b[0m\u001b[0;34m)\u001b[0m\u001b[0;34m,\u001b[0m\u001b[0mInverseOfC\u001b[0m\u001b[0;34m)\u001b[0m\u001b[0;34m)\u001b[0m\u001b[0;34m.\u001b[0m\u001b[0mtranspose\u001b[0m\u001b[0;34m(\u001b[0m\u001b[0;34m)\u001b[0m\u001b[0;34m\u001b[0m\u001b[0m\n\u001b[0m\u001b[1;32m    152\u001b[0m         \u001b[0;32mif\u001b[0m\u001b[0;34m(\u001b[0m\u001b[0mbool\u001b[0m\u001b[0;34m(\u001b[0m\u001b[0misAmerican\u001b[0m\u001b[0;34m)\u001b[0m\u001b[0;34m)\u001b[0m\u001b[0;34m:\u001b[0m\u001b[0;34m\u001b[0m\u001b[0m\n\u001b[1;32m    153\u001b[0m             \u001b[0;32mif\u001b[0m\u001b[0;34m(\u001b[0m\u001b[0mbool\u001b[0m\u001b[0;34m(\u001b[0m\u001b[0misCall\u001b[0m\u001b[0;34m)\u001b[0m\u001b[0;34m)\u001b[0m\u001b[0;34m:\u001b[0m\u001b[0;34m\u001b[0m\u001b[0m\n",
      "\u001b[0;32m/usr/local/lib/python2.7/dist-packages/numpy/matrixlib/defmatrix.pyc\u001b[0m in \u001b[0;36m__new__\u001b[0;34m(subtype, data, dtype, copy)\u001b[0m\n\u001b[1;32m    257\u001b[0m                 \u001b[0mintype\u001b[0m \u001b[0;34m=\u001b[0m \u001b[0mdata\u001b[0m\u001b[0;34m.\u001b[0m\u001b[0mdtype\u001b[0m\u001b[0;34m\u001b[0m\u001b[0m\n\u001b[1;32m    258\u001b[0m             \u001b[0;32melse\u001b[0m\u001b[0;34m:\u001b[0m\u001b[0;34m\u001b[0m\u001b[0m\n\u001b[0;32m--> 259\u001b[0;31m                 \u001b[0mintype\u001b[0m \u001b[0;34m=\u001b[0m \u001b[0mN\u001b[0m\u001b[0;34m.\u001b[0m\u001b[0mdtype\u001b[0m\u001b[0;34m(\u001b[0m\u001b[0mdtype\u001b[0m\u001b[0;34m)\u001b[0m\u001b[0;34m\u001b[0m\u001b[0m\n\u001b[0m\u001b[1;32m    260\u001b[0m             \u001b[0mnew\u001b[0m \u001b[0;34m=\u001b[0m \u001b[0mdata\u001b[0m\u001b[0;34m.\u001b[0m\u001b[0mview\u001b[0m\u001b[0;34m(\u001b[0m\u001b[0msubtype\u001b[0m\u001b[0;34m)\u001b[0m\u001b[0;34m\u001b[0m\u001b[0m\n\u001b[1;32m    261\u001b[0m             \u001b[0;32mif\u001b[0m \u001b[0mintype\u001b[0m \u001b[0;34m!=\u001b[0m \u001b[0mdata\u001b[0m\u001b[0;34m.\u001b[0m\u001b[0mdtype\u001b[0m\u001b[0;34m:\u001b[0m\u001b[0;34m\u001b[0m\u001b[0m\n",
      "\u001b[0;31mTypeError\u001b[0m: data type not understood"
     ]
    }
   ],
   "source": [
    "print VanillaOption_Implicit(\n",
    "                    S_0,\n",
    "                    T,\n",
    "                    K,\n",
    "                    r,\n",
    "                    q,\n",
    "                    sigma,\n",
    "                    Time_Steps,\n",
    "                    Space_Steps,\n",
    "                    isCall,\n",
    "                    isAmerican)\n",
    "print VanillaOption_CrankNicolson(\n",
    "                    S_0,\n",
    "                    T,\n",
    "                    K,\n",
    "                    r,\n",
    "                    q,\n",
    "                    sigma,\n",
    "                    Time_Steps,\n",
    "                    Space_Steps,\n",
    "                    isCall,\n",
    "                    isAmerican)\n",
    "def stabilityCondition(Time_Steps,Space_Steps,r,sigma,T):\n",
    "    dt=T/float(Time_Steps)\n",
    "    isTrue = bool(0)\n",
    "    if (dt>0 and dt<1/(sigma**2*(Space_Steps-1)+.5*r)):\n",
    "        isTrue = bool(1)\n",
    "    return isTrue\n",
    "\n",
    "print stabilityCondition(Time_Steps,Space_Steps,r,sigma,T)\n",
    "\n",
    "def VanillaOption_Implicit(\n",
    "                  S_0,\n",
    "                  T,\n",
    "                  K,\n",
    "                  r,\n",
    "                  q,\n",
    "                  sigma,\n",
    "                  N,\n",
    "                  M,\n",
    "                  isCall,\n",
    "                  isAmerican):\n",
    "    outVector = np.zeros((2,1),dtype = float)\n",
    "    S_max = np.maximum(2.0*K, 2.0*S_0)\n",
    "    S_min = 0.0\n",
    "    #Discretization of the Stock and the Time\n",
    "    dS=(S_max-S_min)/float(M)  \n",
    "    dt=T/float(N)\n",
    "    \n",
    "    j=np.arange(1,M,dtype=np.float)   \n",
    "    \n",
    "    #'Transition Probabilities'\n",
    "    a=(0.5*(r-q)*j*dt-0.5*sigma**2*j**2*dt)\n",
    "    b=(1.0+sigma**2*j**2*dt+r*dt)\n",
    "    c=(-0.5*(r-q)*j*dt-0.5*sigma**2*j**2*dt)\n",
    "    #The matrix from the transition probabilities\n",
    "    A=np.diag(b)+np.diag(a[1:],k=-1)+np.diag(c[0:M-2],k=1)\n",
    "    B=la.inv(A)\n",
    "    infinityNormOfB = la.norm(B,np.inf)\n",
    "    outVector[1] = infinityNormOfB\n",
    "    #The matrix for the option price\n",
    "    #N+1: Time Steps\n",
    "    #M+1: Stock Steps\n",
    "    FV=np.zeros((N+1,M+1))\n",
    "    \n",
    "    #Set up the boundary conditions//Contract dependent :-(\n",
    "    if(bool(isCall)):\n",
    "        FV[:,0]=S_min\n",
    "        FV[:,M]=[S_max * np.exp(-r*( N - j)*dt)-K for j in range(N+1)]\n",
    "        FV[N,:]=np.maximum(np.arange(S_min,S_max+dS/2.0,dS,dtype=np.float)-K,0)\n",
    "    else:\n",
    "        FV[:,0]=[K * np.exp(-r*( N - j)*dt)-K for j in range(N+1)]\n",
    "        FV[:,M]=0\n",
    "        FV[N,:]=np.maximum(K-np.arange(S_min,S_max+dS/2.0,dS,dtype=np.float),0)\n",
    "    \n",
    "    FV=np.matrix(np.array(FV))\n",
    "    #Start the Backward Iteration\n",
    "    for i in range(N-1,-1,-1):\n",
    "        k_i=np.zeros((M-1,1))\n",
    "        #Inserts the first and the last element\n",
    "        k_i[0]=-a[0]*FV[i+1,0] \n",
    "        k_i[M-2]=-c[M-2]*FV[i+1,M]\n",
    "        \n",
    "        FV[i,1:M]=np.dot(FV[i+1,1:M]+np.matrix(np.array(k_i)).transpose(),B)\n",
    "        \n",
    "        if(bool(isAmerican)):\n",
    "            if(bool(isCall)):\n",
    "                FV[i,:] = np.maximum(np.arange(0,S_max+dS/2,dS,dtype=float)-K,FV[i,:]) \n",
    "            else:\n",
    "                FV[i,:] = np.maximum(K-np.arange(0,S_max+dS/2,dS,dtype=float),FV[i,:])\n",
    "        outVector[0] = FV[0,(FV.shape[1]+1)/2]\n",
    "    return outVector\n",
    "\n",
    "def VanillaOption_CrankNicolson(\n",
    "                  S_0,\n",
    "                  T,\n",
    "                  K,\n",
    "                  r,\n",
    "                  q,\n",
    "                  sigma,\n",
    "                  N,\n",
    "                  M,\n",
    "                  isCall,\n",
    "                  isAmerican):\n",
    "    outVector = np.zeros((2,1),dtype = float)\n",
    "    S_max = np.maximum(2.0*K,2.0*S_0)\n",
    "    S_min = 0.0\n",
    "    #Discretization of the Stock and the Time\n",
    "    dS=(S_max-S_min)/float(M)   \n",
    "    dt=T/float(N)\n",
    "    \n",
    "    j=np.arange(1,M,dtype=np.float)   \n",
    "    \n",
    "    #'Transition Probabilities'\n",
    "    a=(dt/4.0)*(-(r-q)*j+sigma**2*j**2)\n",
    "    b=-(dt/2.0)*(sigma**2*j**2+(r-q))\n",
    "    c=(dt/4.0)*((r-q)*j+sigma**2*j**2)\n",
    "    unitVector = [1 for j in range(M-1)]\n",
    "    #The matrix from the transition probabilities\n",
    "    C=np.diag(unitVector)-np.diag(b)-np.diag(a[1:],k=-1)-np.diag(c[0:M-2],k=1)\n",
    "    D=np.diag(unitVector)+np.diag(b)+np.diag(a[1:],k=-1)+np.diag(c[0:M-2],k=1)\n",
    "    InverseOfC = la.inv(C)\n",
    "    iteratingMatrix = np.dot(InverseOfC,D)\n",
    "    infinityNormOfCD = la.norm(iteratingMatrix,np.inf)\n",
    "    outVector[1] = infinityNormOfCD\n",
    "    FV=np.zeros((N+1,M+1))\n",
    "    \n",
    "    #Set up the boundary conditions//Contract dependent :-(\n",
    "    if(bool(isCall)):\n",
    "        FV[:,0]=S_min\n",
    "        FV[:,M]=[S_max * np.exp(-r*( N - j)*dt)-K for j in range(N+1)]\n",
    "        FV[N,:]=np.maximum(np.arange(S_min,S_max+dS/2.0,dS,dtype=np.float)-K,0)\n",
    "    else:\n",
    "        FV[:,0]=[K * np.exp(-r*( N - j)*dt) for j in range(N+1)]\n",
    "        FV[:,M]=0\n",
    "        FV[N,:]=np.maximum(K-np.arange(S_min,S_max+dS/2.0,dS,dtype=np.float),0)\n",
    "    \n",
    "    FV=np.matrix(np.array(FV))    \n",
    "    #Start the Backward Iteration\n",
    "    for i in range(N-1,-1,-1):\n",
    "        k_i=np.zeros((M-1,1))\n",
    "        k_i1=np.zeros((M-1,1))\n",
    "        #Inserts the first and the last element\n",
    "        k_i[0]=a[0]*FV[i+1,0] \n",
    "        k_i[M-2]=c[M-2]*FV[i+1,M]\n",
    "        \n",
    "        k_i1[0]=a[0]*FV[i,0] \n",
    "        k_i1[M-2]=c[M-2]*FV[i,M]\n",
    "\n",
    "        \n",
    "        FV[i,1:M]= np.dot(FV[i+1,1:M],iteratingMatrix)+ np.dot(np.matrix(np.array(k_i),InverseOfC)).transpose()+ np.dot(np.matrix(np.array(k_i1),InverseOfC)).transpose()\n",
    "        if(bool(isAmerican)):\n",
    "            if(bool(isCall)):\n",
    "                FV[i,:] = np.maximum(np.arange(S_min,S_max+dS/2,dS,dtype=float)-K,FV[i,:]) \n",
    "            else:\n",
    "                FV[i,:] = np.maximum(K-np.arange(S_min,S_max+dS/2,dS,dtype=float),FV[i,:])\n",
    "        outVector[0] = FV[0,(FV.shape[1]+1)/2]\n",
    "    return outVector\n"
   ]
  },
  {
   "cell_type": "code",
   "execution_count": 536,
   "metadata": {
    "collapsed": false
   },
   "outputs": [
    {
     "name": "stdout",
     "output_type": "stream",
     "text": [
      "7.48789538916\n"
     ]
    }
   ],
   "source": []
  },
  {
   "cell_type": "code",
   "execution_count": 263,
   "metadata": {
    "collapsed": false
   },
   "outputs": [],
   "source": [
    "#Dependence on TimeSteps\n",
    "import matplotlib.pyplot as plt\n",
    "TimeSteps=np.arange(10,156,5)\n",
    "SpaceSteps = np.arange(5,106,5)\n",
    "vecDiffs=np.zeros(TimeSteps.shape[0]-1)\n",
    "S_0 = 50.0\n",
    "T=1.0\n",
    "K=50.0\n",
    "r=0.1\n",
    "q=0.00\n",
    "sigma = 0.25\n",
    "Time_Steps=100\n",
    "Space_Steps=30\n",
    "isCall = 0\n",
    "isAmerican = 0\n",
    "for i in range(0,TimeSteps.shape[0]-1):\n",
    "    vecDiffs[i] = x - VanillaOption_Explicit(\n",
    "                        S_0,\n",
    "                        T,\n",
    "                        K,\n",
    "                        r,\n",
    "                        q,\n",
    "                        sigma,\n",
    "                        TimeSteps[i],\n",
    "                        Space_Steps,\n",
    "                        isCall,\n",
    "                        isAmerican)[0,0]\n",
    "  \n"
   ]
  },
  {
   "cell_type": "code",
   "execution_count": 264,
   "metadata": {
    "collapsed": false
   },
   "outputs": [
    {
     "data": {
      "image/png": "[encoded data removed]",
      "text/plain": [
       "<matplotlib.figure.Figure at 0x7fb1ccaeb490>"
      ]
     },
     "metadata": {},
     "output_type": "display_data"
    }
   ],
   "source": [
    "plt.plot(vecDiffs)\n",
    "plt.ylabel(\"Difference as a function of Time Steps\")\n",
    "plt.show()\n"
   ]
  },
  {
   "cell_type": "code",
   "execution_count": 507,
   "metadata": {
    "collapsed": false
   },
   "outputs": [
    {
     "data": {
      "image/png": "[encoded data removed]",
      "text/plain": [
       "<matplotlib.figure.Figure at 0x7fb1ccdd5c90>"
      ]
     },
     "metadata": {},
     "output_type": "display_data"
    }
   ],
   "source": [
    "#Dependence on SpaceSteps\n",
    "TimeSteps=np.arange(10,156,5)\n",
    "SpaceSteps = np.arange(2,50,1)\n",
    "vecDiffs=np.zeros(SpaceSteps.shape[0]-1)\n",
    "S_0 = 50.0\n",
    "T=1.0\n",
    "K=50.0\n",
    "r=0.1\n",
    "q=0.00\n",
    "sigma = 0.25\n",
    "Time_Steps=100\n",
    "Space_Steps=30\n",
    "isCall = 1\n",
    "isAmerican = 0\n",
    "for i in range(0,SpaceSteps.shape[0]-1):\n",
    "    vecDiffs[i] = x - VanillaOption_Explicit(\n",
    "                        S_0,\n",
    "                        T,\n",
    "                        K,\n",
    "                        r,\n",
    "                        q,\n",
    "                        sigma,\n",
    "                        Time_Steps,\n",
    "                        SpaceSteps[i],\n",
    "                        isCall,\n",
    "                        isAmerican)[0,0]\n",
    "plt.plot(vecDiffs)\n",
    "plt.ylabel(\"Difference as a function of Space Steps\")\n",
    "plt.show()\n"
   ]
  },
  {
   "cell_type": "code",
   "execution_count": 266,
   "metadata": {
    "collapsed": true
   },
   "outputs": [],
   "source": [
    "#Dependence on TimeSteps of the Crank-Nicolson\n",
    "import matplotlib.pyplot as plt\n",
    "TimeSteps=np.arange(10,156,5)\n",
    "SpaceSteps = np.arange(5,106,5)\n",
    "vecDiffs=np.zeros(TimeSteps.shape[0]-1)\n",
    "S_0 = 50.0\n",
    "T=1.0\n",
    "K=50.0\n",
    "r=0.1\n",
    "q=0.00\n",
    "sigma = 0.25\n",
    "Time_Steps=100\n",
    "Space_Steps=30\n",
    "isCall = 1\n",
    "isAmerican = 0\n",
    "for i in range(0,TimeSteps.shape[0]-1):\n",
    "    vecDiffs[i] = x - VanillaOption_CrankNicolson(\n",
    "                        S_0,\n",
    "                        T,\n",
    "                        K,\n",
    "                        r,\n",
    "                        q,\n",
    "                        sigma,\n",
    "                        TimeSteps[i],\n",
    "                        Space_Steps,\n",
    "                        isCall,\n",
    "                        isAmerican)[0,0]\n",
    "  \n"
   ]
  },
  {
   "cell_type": "code",
   "execution_count": 267,
   "metadata": {
    "collapsed": false
   },
   "outputs": [
    {
     "data": {
      "image/png": "[encoded data removed]",
      "text/plain": [
       "<matplotlib.figure.Figure at 0x7fb1cc63f5d0>"
      ]
     },
     "metadata": {},
     "output_type": "display_data"
    },
    {
     "name": "stdout",
     "output_type": "stream",
     "text": [
      "[-1.46869128 -1.49494562 -1.50844153 -1.51664089 -1.52214615 -1.52609657\n",
      " -1.5290689  -1.53138618 -1.53324337 -1.53476509 -1.53603466 -1.53710995\n",
      " -1.53803238 -1.53883237 -1.53953279 -1.54015112 -1.540701   -1.5411932\n",
      " -1.54163634 -1.54203741 -1.54240213 -1.54273521 -1.54304062 -1.54332166\n",
      " -1.54358113 -1.54382142 -1.54404459 -1.54425241 -1.54444639]\n"
     ]
    }
   ],
   "source": [
    "plt.plot(vecDiffs)\n",
    "plt.ylabel(\"Difference as a function of Time Steps of the CN method\")\n",
    "plt.show()\n",
    "print(vecDiffs)"
   ]
  }
 ],
 "metadata": {
  "kernelspec": {
   "display_name": "Python 2",
   "language": "python",
   "name": "python2"
  },
  "language_info": {
   "codemirror_mode": {
    "name": "ipython",
    "version": 2
   },
   "file_extension": ".py",
   "mimetype": "text/x-python",
   "name": "python",
   "nbconvert_exporter": "python",
   "pygments_lexer": "ipython2",
   "version": "2.7.12"
  }
 },
 "nbformat": 4,
 "nbformat_minor": 2
}
