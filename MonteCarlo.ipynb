{
 "cells": [
  {
   "cell_type": "code",
   "execution_count": 1,
   "metadata": {
    "collapsed": false
   },
   "outputs": [
    {
     "data": {
      "image/png": "[encoded data removed]",
      "text/plain": [
       "<matplotlib.figure.Figure at 0x7fafe8820790>"
      ]
     },
     "metadata": {},
     "output_type": "display_data"
    },
    {
     "data": {
      "text/plain": [
       "array([  3.80507014,   1.40165088,   3.59444892,   5.50000796,\n",
       "         5.25053086,  11.72073535,   1.6689612 ,  17.68131931,\n",
       "         0.87114749,  10.95979612,   9.66785283,  14.37402234,\n",
       "         7.31715884,   1.41740498,   3.32916818,   2.23107267,\n",
       "         2.14115289,  14.14162123,   1.0210975 ,   5.53782016,\n",
       "         1.2720506 ,   0.86580428,  32.75964697,  27.43600092,\n",
       "         3.98307062,  22.63809063,   3.65533456,   1.00140504,\n",
       "         0.94060242,   1.27442079,   7.3007436 ,   1.42271638,\n",
       "         1.68156017,   0.88578027,   3.69123008,   3.09739981,\n",
       "         1.47469075,   5.02364025,   8.22609418,   2.70468333,\n",
       "         6.34921004,   0.88279467,  16.10085801,   1.89582327,\n",
       "         4.93079443,   1.15351105,   2.72363681,   2.28585226,\n",
       "         1.83260109,   2.73779668,  26.56314886,  32.07186692,\n",
       "         1.5395035 ,  15.67688408,   1.05262017,   2.51763928,\n",
       "         0.91769456,  61.97258494,   1.33593199,   1.04573663,\n",
       "         8.19481233,   5.21893916,   2.47385832,   4.38740234,\n",
       "        44.91003392,   8.95031892,  14.08948853,   0.89232946,\n",
       "        29.68640556,  19.49362989,  15.99315572,  17.59690297,\n",
       "         0.86562202,  12.25988426,  11.0541199 ,  14.94779558,\n",
       "         7.55895715,   2.8079488 ,  12.61295697,  22.74965396,\n",
       "         6.45941856,  21.95363386,   0.86519256,  15.79907395,\n",
       "         6.99989123,   3.76072763,   1.32280111,   5.53651022,\n",
       "         6.76281437,   1.38385446,  25.24466865,   0.9724507 ,\n",
       "         1.40454262,   1.64297157,   3.83694784,   0.87475931,\n",
       "         9.06887777,   1.1259937 ,   1.97303015,   1.30576656])"
      ]
     },
     "execution_count": 1,
     "metadata": {},
     "output_type": "execute_result"
    }
   ],
   "source": [
    "import numpy as np\n",
    "from numpy import linalg as la\n",
    "import matplotlib.pyplot as plt\n",
    "import warnings\n",
    "warnings.simplefilter('ignore', np.RankWarning)\n",
    "\n",
    "N = 100\n",
    "M=4\n",
    "S_0=100\n",
    "r=0.1\n",
    "q=0.0\n",
    "sigma=0.25\n",
    "T=1.0\n",
    "Strike =100\n",
    "S=np.zeros((N,M))\n",
    "np.random.seed(1)\n",
    "W=np.random.randn(N,M-1)\n",
    "dt=T/float(M)\n",
    "sq_dt=np.sqrt(dt)\n",
    "\n",
    "drift =(r-0.5*sigma*sigma)*dt\n",
    "diffusion = sigma*sq_dt\n",
    "\n",
    "ln_S=np.zeros((N,M))\n",
    "ln_S[:,0]=np.log(S_0)\n",
    "for t in range(1,M):\n",
    "    ln_S[:,t]=ln_S[:,t-1] + drift + diffusion * W[:,t-1]\n",
    "S=np.exp(ln_S)\n",
    "#Plotting a sample trajectory to check our s@#t\n",
    "plt.plot(S[N-1,:])\n",
    "plt.ylabel(\"Stock Value\")\n",
    "plt.xlabel(\"Time\")\n",
    "plt.show()\n",
    "\n",
    "FV_vec=np.zeros((N))\n",
    "FV_vec = np.maximum(Strike-S[:,M-1],0)\n",
    "fairValue = np.average(FV_vec) * np.exp(-r*T)\n",
    "fairValue\n",
    "S\n",
    "\n",
    "CashFlowMatrix = np.zeros((N,M))\n",
    "CashFlowMatrix[:,M-1]=FV_vec\n",
    "CashFlowMatrix[:,M-2]=np.maximum(Strike-S[:,M-2],0)\n",
    "discountFactor = np.exp(-r*dt)\n",
    "CashFlowMatrix\n",
    "Y=[]\n",
    "X=[]\n",
    "for i in range(0,N-1):\n",
    "    if(CashFlowMatrix[i,M-2]>0.0):\n",
    "            Y.append(CashFlowMatrix[i,M-1]*discountFactor)\n",
    "            X.append(S[i,M-2])\n",
    "        \n",
    "Z=np.polyfit(X,Y,2)\n",
    "p = np.poly1d(Z)\n",
    "np.maximum(p(S[:,M-2]),CashFlowMatrix[:,M-2])\n",
    "#now, we regress Y with const, X, X^2 to have E[X cond Y]\n",
    "#then, we compare CashFlowMatrix[:,M-2]versus E[X cond Y], CashFlowMatrix=np.maximum(CashFlowMatrix[:,M-2],E[X cond Y])\n",
    "#We need to make sure, if it worths to exercise the option, then the value is zero at the next step..."
   ]
  },
  {
   "cell_type": "code",
   "execution_count": 7,
   "metadata": {
    "collapsed": false
   },
   "outputs": [
    {
     "name": "stdout",
     "output_type": "stream",
     "text": [
      "5.45953258191\n"
     ]
    }
   ],
   "source": [
    "import math as math\n",
    "def phi(x):\n",
    "    'Cumulative distribution function for the standard normal distribution'\n",
    "    return (1.0 + math.erf(x / np.sqrt(2.0))) / 2.0\n",
    "def BlackScholes(S,\n",
    "                 T,\n",
    "                 K,\n",
    "                 r,\n",
    "                 q,\n",
    "                 sigma,\n",
    "                 isCall):\n",
    "    d1=(np.log(S/K)+T*(r-q+0.5*sigma**2))/(sigma*np.sqrt(T))\n",
    "    d2=d1-np.sqrt(T)*sigma\n",
    "    if(bool(isCall)):\n",
    "            return S*phi(d1)- math.exp(-(r)*T)*K*phi(d2)\n",
    "    else:\n",
    "        return math.exp(-r*T)*K*phi(-d2)-S*phi(-d1) \n",
    "x=BlackScholes(S_0,T,Strike,r,q,sigma,0)\n",
    "print x"
   ]
  }
 ],
 "metadata": {
  "kernelspec": {
   "display_name": "Python 2",
   "language": "python",
   "name": "python2"
  },
  "language_info": {
   "codemirror_mode": {
    "name": "ipython",
    "version": 2
   },
   "file_extension": ".py",
   "mimetype": "text/x-python",
   "name": "python",
   "nbconvert_exporter": "python",
   "pygments_lexer": "ipython2",
   "version": "2.7.12"
  }
 },
 "nbformat": 4,
 "nbformat_minor": 2
}
