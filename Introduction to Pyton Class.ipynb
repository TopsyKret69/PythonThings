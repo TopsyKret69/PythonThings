{
 "cells": [
  {
   "cell_type": "code",
   "execution_count": 10,
   "metadata": {
    "collapsed": false
   },
   "outputs": [
    {
     "name": "stdout",
     "output_type": "stream",
     "text": [
      "an object of type 'baseClass' has been created.\n",
      "an attribute, called f\n"
     ]
    }
   ],
   "source": [
    "### An introduction in the python class structures\n",
    "\n",
    "\n",
    "class baseClass:\n",
    "    print \"an object of type 'baseClass' has been created.\"\n",
    "    def f(self):\n",
    "        print \"an attribute, called f\"\n",
    "    \n",
    "\n",
    "B = baseClass()\n",
    "B.f()"
   ]
  }
 ],
 "metadata": {
  "kernelspec": {
   "display_name": "Python 2",
   "language": "python",
   "name": "python2"
  },
  "language_info": {
   "codemirror_mode": {
    "name": "ipython",
    "version": 2
   },
   "file_extension": ".py",
   "mimetype": "text/x-python",
   "name": "python",
   "nbconvert_exporter": "python",
   "pygments_lexer": "ipython2",
   "version": "2.7.12"
  }
 },
 "nbformat": 4,
 "nbformat_minor": 2
}
